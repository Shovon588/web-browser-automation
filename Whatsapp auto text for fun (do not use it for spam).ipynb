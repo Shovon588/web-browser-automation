{
 "cells": [
  {
   "cell_type": "code",
   "execution_count": 5,
   "metadata": {},
   "outputs": [],
   "source": [
    "from selenium import webdriver\n",
    "import time\n",
    "from selenium.webdriver.common.keys import Keys\n",
    "from random import randint\n",
    "import pandas as pd"
   ]
  },
  {
   "cell_type": "code",
   "execution_count": 6,
   "metadata": {},
   "outputs": [],
   "source": [
    "browser = webdriver.Chrome('driver/chromedriver.exe')\n",
    "browser.maximize_window()"
   ]
  },
  {
   "cell_type": "code",
   "execution_count": 7,
   "metadata": {},
   "outputs": [],
   "source": [
    "browser.get(\"https://web.whatsapp.com/\")"
   ]
  },
  {
   "cell_type": "code",
   "execution_count": 9,
   "metadata": {},
   "outputs": [],
   "source": []
  },
  {
   "cell_type": "code",
   "execution_count": 11,
   "metadata": {},
   "outputs": [],
   "source": [
    "browser.find_element_by_xpath('//*[@id=\"pane-side\"]/div[1]/div/div/div[1]/div/div/div[2]').click()"
   ]
  },
  {
   "cell_type": "code",
   "execution_count": 12,
   "metadata": {},
   "outputs": [],
   "source": [
    "names = ['label', 'message']\n",
    "data = pd.read_csv(\"SMSSpamCollection\", sep='\\t', names = names)"
   ]
  },
  {
   "cell_type": "code",
   "execution_count": 13,
   "metadata": {},
   "outputs": [],
   "source": [
    "text = list(data['message'])"
   ]
  },
  {
   "cell_type": "code",
   "execution_count": null,
   "metadata": {},
   "outputs": [],
   "source": []
  },
  {
   "cell_type": "code",
   "execution_count": 20,
   "metadata": {},
   "outputs": [
    {
     "name": "stdout",
     "output_type": "stream",
     "text": [
      "1 done. More to go\n",
      "2 done. More to go\n",
      "3 done. More to go\n",
      "4 done. More to go\n",
      "5 done. More to go\n",
      "6 done. More to go\n",
      "7 done. More to go\n",
      "8 done. More to go\n",
      "9 done. More to go\n",
      "10 done. More to go\n",
      "11 done. More to go\n",
      "12 done. More to go\n",
      "13 done. More to go\n",
      "14 done. More to go\n",
      "15 done. More to go\n",
      "16 done. More to go\n",
      "17 done. More to go\n",
      "18 done. More to go\n",
      "19 done. More to go\n",
      "20 done. More to go\n",
      "21 done. More to go\n",
      "22 done. More to go\n",
      "23 done. More to go\n",
      "24 done. More to go\n",
      "25 done. More to go\n",
      "26 done. More to go\n",
      "27 done. More to go\n",
      "28 done. More to go\n",
      "29 done. More to go\n",
      "30 done. More to go\n",
      "31 done. More to go\n",
      "32 done. More to go\n",
      "33 done. More to go\n",
      "34 done. More to go\n",
      "35 done. More to go\n",
      "36 done. More to go\n",
      "37 done. More to go\n",
      "38 done. More to go\n",
      "39 done. More to go\n",
      "40 done. More to go\n",
      "41 done. More to go\n",
      "42 done. More to go\n",
      "43 done. More to go\n",
      "44 done. More to go\n",
      "45 done. More to go\n",
      "46 done. More to go\n",
      "47 done. More to go\n",
      "48 done. More to go\n",
      "49 done. More to go\n",
      "50 done. More to go\n"
     ]
    }
   ],
   "source": [
    "count = 1\n",
    "for i in range(50):\n",
    "    num = randint(0,len(text)-1)\n",
    "    bigar = browser.find_element_by_xpath('//*[@id=\"main\"]/footer/div[1]/div[2]/div/div[2]')\n",
    "    bigar.send_keys(text[num], Keys.ENTER)\n",
    "    print(\"%d done. More to go\" %(count))\n",
    "    count+=1"
   ]
  },
  {
   "cell_type": "code",
   "execution_count": null,
   "metadata": {},
   "outputs": [],
   "source": []
  }
 ],
 "metadata": {
  "kernelspec": {
   "display_name": "Python 3",
   "language": "python",
   "name": "python3"
  },
  "language_info": {
   "codemirror_mode": {
    "name": "ipython",
    "version": 3
   },
   "file_extension": ".py",
   "mimetype": "text/x-python",
   "name": "python",
   "nbconvert_exporter": "python",
   "pygments_lexer": "ipython3",
   "version": "3.8.2"
  }
 },
 "nbformat": 4,
 "nbformat_minor": 4
}
