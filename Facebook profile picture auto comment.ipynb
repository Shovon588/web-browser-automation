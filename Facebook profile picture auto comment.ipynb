{
 "cells": [
  {
   "cell_type": "code",
   "execution_count": 20,
   "metadata": {},
   "outputs": [],
   "source": [
    "from selenium import webdriver\n",
    "import time\n",
    "from selenium.webdriver.common.keys import Keys\n",
    "from random import randint\n",
    "import pandas as pd\n",
    "import sys"
   ]
  },
  {
   "cell_type": "code",
   "execution_count": 27,
   "metadata": {},
   "outputs": [],
   "source": [
    "# The credentials.txt should contain your facebook username and password in separate lines. For my case it was:\n",
    "\"\"\"\n",
    "fb_user: my_username\n",
    "fb_pass: my_password\n",
    "\"\"\"\n",
    "data = open('credentials.txt', 'r')\n",
    "data = data.readlines()\n",
    "\n",
    "for key in data:\n",
    "    if \"fb_user\" in key:\n",
    "        user = key\n",
    "    elif \"fb_pass\" in key:\n",
    "        password = key\n",
    "        \n",
    "\n",
    "# Splitting the variable name and value seperated by colon, taking the second element and strip it.\n",
    "user = user.split(':')[1].strip()\n",
    "password = password.split(':')[1].strip()"
   ]
  },
  {
   "cell_type": "code",
   "execution_count": 22,
   "metadata": {},
   "outputs": [],
   "source": [
    "browser = webdriver.Chrome('driver/chromedriver.exe')"
   ]
  },
  {
   "cell_type": "code",
   "execution_count": 23,
   "metadata": {},
   "outputs": [],
   "source": [
    "# The link to the profile who's profile picture you want to comment to\n",
    "\n",
    "browser.get(\"https://web.facebook.com/profile.php?id=100009788948527\")"
   ]
  },
  {
   "cell_type": "code",
   "execution_count": 24,
   "metadata": {},
   "outputs": [],
   "source": [
    "browser.find_element_by_xpath('//*[@id=\"email\"]').send_keys(user)\n",
    "browser.find_element_by_xpath('//*[@id=\"pass\"]').send_keys(password)\n",
    "browser.find_element_by_xpath('//*[@id=\"u_0_2\"]').click()"
   ]
  },
  {
   "cell_type": "code",
   "execution_count": 25,
   "metadata": {},
   "outputs": [],
   "source": [
    "# This should be the xpath of the profile picture. This might vary from user to user. Attach it manually.\n",
    "# To do so, right click on profile picture, inspect, in the element section go to that particular section then copy xpath.\n",
    "\n",
    "time.sleep(3)\n",
    "browser.find_element_by_xpath('//*[@id=\"u_0_10\"]/img').click()"
   ]
  },
  {
   "cell_type": "code",
   "execution_count": null,
   "metadata": {},
   "outputs": [],
   "source": []
  },
  {
   "cell_type": "code",
   "execution_count": 28,
   "metadata": {},
   "outputs": [],
   "source": [
    "# For this fun comment I used SMSSpamCollection dataset which contains a bunch of fake sms.\n",
    "# Your can choose your own dataset.\n",
    "\n",
    "names = ['label', 'message']\n",
    "data = pd.read_csv(\"SMSSpamCollection\", sep='\\t', names = names)"
   ]
  },
  {
   "cell_type": "code",
   "execution_count": null,
   "metadata": {},
   "outputs": [],
   "source": [
    "text = list(data['message'])"
   ]
  },
  {
   "cell_type": "code",
   "execution_count": null,
   "metadata": {},
   "outputs": [],
   "source": [
    "small_text = input().split(' ')"
   ]
  },
  {
   "cell_type": "code",
   "execution_count": null,
   "metadata": {},
   "outputs": [],
   "source": []
  },
  {
   "cell_type": "code",
   "execution_count": null,
   "metadata": {},
   "outputs": [],
   "source": [
    "# Here the number of comments indicate the number of times you want to comment\n",
    "\n",
    "# The comment varialbe should be the xpath of the comment box. This might vary from user to user. Attach it manually.\n",
    "# To do so, right click on comment box where you want to comment, inspect, in the element section go to that particular section, then copy xpath.\n",
    "\n",
    "count = 1\n",
    "number_of_comment = 500\n",
    "for i in range(number_of_comment):\n",
    "    num = randint(0,len(small_text)-1)\n",
    "    comment = browser.find_element_by_xpath('//*[@id=\"js_lc\"]/div/div/div')\n",
    "    comment.send_keys(small_text[num], Keys.ENTER)\n",
    "    print(\"%d done. More to go\" %(count))\n",
    "    count+=1"
   ]
  },
  {
   "cell_type": "code",
   "execution_count": null,
   "metadata": {},
   "outputs": [],
   "source": []
  }
 ],
 "metadata": {
  "kernelspec": {
   "display_name": "Python 3",
   "language": "python",
   "name": "python3"
  },
  "language_info": {
   "codemirror_mode": {
    "name": "ipython",
    "version": 3
   },
   "file_extension": ".py",
   "mimetype": "text/x-python",
   "name": "python",
   "nbconvert_exporter": "python",
   "pygments_lexer": "ipython3",
   "version": "3.8.2"
  }
 },
 "nbformat": 4,
 "nbformat_minor": 4
}
